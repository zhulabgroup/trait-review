{
 "cells": [
  {
   "cell_type": "code",
   "execution_count": 1,
   "id": "3296cc5a",
   "metadata": {},
   "outputs": [],
   "source": [
    "# !pip install graphistry\n",
    "import graphistry\n",
    "\n",
    "# register here: https://www.graphistry.com/\n",
    "graphistry.register(api=3, username='<your username>', password='<your password>')"
   ]
  },
  {
   "cell_type": "code",
   "execution_count": 61,
   "id": "850e9ebb",
   "metadata": {},
   "outputs": [
    {
     "name": "stdout",
     "output_type": "stream",
     "text": [
      "     supergroup  group              phrase  count\n",
      "189          HS   2700            genetics     65\n",
      "313          HS   2700  personality traits     60\n",
      "2056         HS   2716    agronomic traits     65\n",
      "2086         HS   2716            breeding     76\n",
      "2094         HS   2716     candidate genes     80\n"
     ]
    }
   ],
   "source": [
    "import pandas as pd\n",
    "\n",
    "edges = pd.read_csv('../alldata/intermediate/network/area_trait.csv')\n",
    "edges = edges[edges['count'] >= 50]\n",
    "print(edges.head())"
   ]
  },
  {
   "cell_type": "code",
   "execution_count": 62,
   "id": "c85604fd",
   "metadata": {},
   "outputs": [
    {
     "name": "stdout",
     "output_type": "stream",
     "text": [
      "   node type\n",
      "0  1100   LF\n",
      "1  1101   LF\n",
      "2  1102   LF\n",
      "3  1103   LF\n",
      "4  1104   LF\n"
     ]
    }
   ],
   "source": [
    "edges_comb = edges.groupby(['group','supergroup']).size().reset_index().drop(0, axis = 1)\n",
    "nodes1 = pd.DataFrame({\n",
    "    'node': edges_comb['group'].astype(str),\n",
    "    'type': edges_comb['supergroup']\n",
    "})\n",
    "\n",
    "nodes2 = pd.DataFrame({\n",
    "    'node': edges['phrase'].unique()\n",
    "})\n",
    "nodes2['type'] = 'trait term'\n",
    "\n",
    "nodes = pd.concat([nodes1, nodes2], ignore_index=True)\n",
    "\n",
    "print(nodes.head())"
   ]
  },
  {
   "cell_type": "code",
   "execution_count": 63,
   "id": "e908a439",
   "metadata": {},
   "outputs": [
    {
     "data": {
      "text/html": [
       "\n",
       "            <iframe id=\"4b70aba3-3094-42cf-8b44-bc8cff4c327a\" src=\"https://hub.graphistry.com/graph/graph.html?dataset=03d6002307504615bdd4b70cf888d8fc&type=arrow&viztoken=REMOVED&usertag=6bfbe0e5-pygraphistry-0.29.6&splashAfter=1698704669&info=true&play=500&pointSize=0.5&pointOpacity=0.2&edgeCurvature=0.2&edgeOpacity=0.2&precisionVsSpeed=-1&gravity=2&scalingRatio=0.2&edgeInfluence=2&showPointsOfInterest=False\"\n",
       "                    allowfullscreen=\"true\" webkitallowfullscreen=\"true\" mozallowfullscreen=\"true\"\n",
       "                    oallowfullscreen=\"true\" msallowfullscreen=\"true\"\n",
       "                    style=\"width:100%; height:500px; border: 1px solid #DDD; overflow: hidden\"\n",
       "                    \n",
       "            >\n",
       "            </iframe>\n",
       "        \n",
       "            <script>\n",
       "                try {\n",
       "                  $(\"#4b70aba3-3094-42cf-8b44-bc8cff4c327a\").bind('mousewheel', function(e) { e.preventDefault(); });\n",
       "                } catch (e) { console.error('exn catching scroll', e); }\n",
       "            </script>\n",
       "        "
      ],
      "text/plain": [
       "<IPython.core.display.HTML object>"
      ]
     },
     "execution_count": 63,
     "metadata": {},
     "output_type": "execute_result"
    }
   ],
   "source": [
    "g = graphistry.edges(edges, 'group', 'phrase').nodes(nodes, 'node').bind(edge_weight='count')\n",
    "\n",
    "g = g.encode_point_color('type',\n",
    "                    categorical_mapping={\n",
    "        'LF': 'green',\n",
    "        'PS': 'blue',\n",
    "        'HS': 'purple',\n",
    "        'SS': 'orange',\n",
    "                   'trait term': 'white'     \n",
    "    },\n",
    "    default_mapping='silver'\n",
    "                    ).encode_point_icon(\n",
    "  'type',\n",
    "  shape=\"circle\", #clip excess\n",
    "  categorical_mapping={ # https://fontawesome.com/v4/icons/\n",
    "      'LF': 'leaf',\n",
    "        'PS': 'tint',\n",
    "        'HS': 'medkit',\n",
    "        'SS': 'user',\n",
    "  'trait term': 'comment'},\n",
    "  default_mapping=\"question\")\n",
    "\n",
    "URL_PARAMS = {'play': 500, \n",
    "              'pointSize': 0.5,\n",
    "              'pointOpacity': 0.2,\n",
    "              'edgeCurvature': 0.2,\n",
    "              'edgeOpacity': 0.2,\n",
    "              'precisionVsSpeed': -1, \n",
    "              'gravity': 2, \n",
    "              'scalingRatio': 0.2, \n",
    "              'edgeInfluence': 2, \n",
    "              'showPointsOfInterest': False}\n",
    "g = g.settings(url_params=URL_PARAMS)\n",
    "\n",
    "g.plot(render=True)"
   ]
  },
  {
   "cell_type": "code",
   "execution_count": 64,
   "id": "f2116e66",
   "metadata": {},
   "outputs": [
    {
     "name": "stdout",
     "output_type": "stream",
     "text": [
      "                          group          phrase  count\n",
      "2      abiotic stress tolerance  abiotic stress   1556\n",
      "2897                 adaptation  climate change   2517\n",
      "2932                 adaptation         drought   2063\n",
      "2937                 adaptation  drought stress    831\n",
      "3345  adaptation, physiological  climate change    865\n"
     ]
    }
   ],
   "source": [
    "import pandas as pd\n",
    "\n",
    "edges = pd.read_csv('../alldata/intermediate/network/trait_gc.csv')\n",
    "edges = edges[edges['count'] >= 800]\n",
    "print(edges.head())"
   ]
  },
  {
   "cell_type": "code",
   "execution_count": 59,
   "id": "c9033fe5",
   "metadata": {},
   "outputs": [
    {
     "name": "stdout",
     "output_type": "stream",
     "text": [
      "                        node        type\n",
      "0   abiotic stress tolerance  trait term\n",
      "1                 adaptation  trait term\n",
      "2  adaptation, physiological  trait term\n",
      "3                 adsorption  trait term\n",
      "4        adsorption capacity  trait term\n"
     ]
    }
   ],
   "source": [
    "nodes1 = pd.DataFrame({\n",
    "    'node': edges['group'].unique()\n",
    "})\n",
    "nodes1['type'] = 'trait term'\n",
    "\n",
    "nodes2 = pd.DataFrame({\n",
    "    'node': edges['phrase'].unique()\n",
    "})\n",
    "nodes2['type'] = 'global change term'\n",
    "\n",
    "nodes = pd.concat([nodes1, nodes2], ignore_index=True)\n",
    "\n",
    "print(nodes.head())"
   ]
  },
  {
   "cell_type": "code",
   "execution_count": 60,
   "id": "b0cb1a3d",
   "metadata": {},
   "outputs": [
    {
     "data": {
      "text/html": [
       "\n",
       "            <iframe id=\"51d615c1-b380-4020-bdb9-41d373c55ab9\" src=\"https://hub.graphistry.com/graph/graph.html?dataset=fc9b397054744b63a42bbd60f54e7184&type=arrow&viztoken=REMOVED&usertag=6bfbe0e5-pygraphistry-0.29.6&splashAfter=1698704580&info=true&play=500&pointSize=0.5&pointOpacity=0.2&edgeCurvature=0.2&edgeOpacity=0.2&precisionVsSpeed=-1&gravity=2&scalingRatio=0.2&edgeInfluence=2&showPointsOfInterest=False\"\n",
       "                    allowfullscreen=\"true\" webkitallowfullscreen=\"true\" mozallowfullscreen=\"true\"\n",
       "                    oallowfullscreen=\"true\" msallowfullscreen=\"true\"\n",
       "                    style=\"width:100%; height:500px; border: 1px solid #DDD; overflow: hidden\"\n",
       "                    \n",
       "            >\n",
       "            </iframe>\n",
       "        \n",
       "            <script>\n",
       "                try {\n",
       "                  $(\"#51d615c1-b380-4020-bdb9-41d373c55ab9\").bind('mousewheel', function(e) { e.preventDefault(); });\n",
       "                } catch (e) { console.error('exn catching scroll', e); }\n",
       "            </script>\n",
       "        "
      ],
      "text/plain": [
       "<IPython.core.display.HTML object>"
      ]
     },
     "execution_count": 60,
     "metadata": {},
     "output_type": "execute_result"
    }
   ],
   "source": [
    "g = graphistry.edges(edges, 'group', 'phrase').nodes(nodes, 'node').bind(edge_weight='count')\n",
    "\n",
    "g = g.encode_point_color('type',\n",
    "                    categorical_mapping={\n",
    "        'trait term': 'white',\n",
    "        'global change term': 'red'\n",
    "    },\n",
    "    default_mapping='silver'\n",
    "                    ).encode_point_icon(\n",
    "  'type',\n",
    "  shape=\"circle\", #clip excess\n",
    "  categorical_mapping={\n",
    "  'trait term': 'comment',\n",
    "      'global change term': 'exclamation'\n",
    "  },\n",
    "  default_mapping=\"question\")\n",
    "\n",
    "URL_PARAMS = {'play': 500, \n",
    "              'pointSize': 0.5,\n",
    "              'pointOpacity': 0.2,\n",
    "              'edgeCurvature': 0.2,\n",
    "              'edgeOpacity': 0.2,\n",
    "              'precisionVsSpeed': -1, \n",
    "              'gravity': 2, \n",
    "              'scalingRatio': 0.2, \n",
    "              'edgeInfluence': 2, \n",
    "              'showPointsOfInterest': False}\n",
    "g = g.settings(url_params=URL_PARAMS)\n",
    "\n",
    "g.plot(render=True)"
   ]
  },
  {
   "cell_type": "code",
   "execution_count": null,
   "id": "ddcb5f3b",
   "metadata": {},
   "outputs": [],
   "source": []
  }
 ],
 "metadata": {
  "kernelspec": {
   "display_name": "Python 3 (ipykernel)",
   "language": "python",
   "name": "python3"
  },
  "language_info": {
   "codemirror_mode": {
    "name": "ipython",
    "version": 3
   },
   "file_extension": ".py",
   "mimetype": "text/x-python",
   "name": "python",
   "nbconvert_exporter": "python",
   "pygments_lexer": "ipython3",
   "version": "3.9.7"
  }
 },
 "nbformat": 4,
 "nbformat_minor": 5
}
